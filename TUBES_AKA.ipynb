{
  "nbformat": 4,
  "nbformat_minor": 0,
  "metadata": {
    "colab": {
      "name": "TUBES AKA.ipynb",
      "provenance": [],
      "include_colab_link": true
    },
    "kernelspec": {
      "name": "python3",
      "display_name": "Python 3"
    },
    "language_info": {
      "name": "python"
    }
  },
  "cells": [
    {
      "cell_type": "markdown",
      "metadata": {
        "id": "view-in-github",
        "colab_type": "text"
      },
      "source": [
        "<a href=\"https://colab.research.google.com/github/RizaldiMF01/Tubes---AKA/blob/master/TUBES_AKA.ipynb\" target=\"_parent\"><img src=\"https://colab.research.google.com/assets/colab-badge.svg\" alt=\"Open In Colab\"/></a>"
      ]
    },
    {
      "cell_type": "markdown",
      "source": [
        "**Tugas Besar Analitas Kompleksitas Algoritma**\n",
        "\n",
        "Analisis algoritma Quick sort dan Merge sort\n",
        "\n",
        "---\n",
        " Anggota Kelompok :\n",
        "  1. Alfi Syahrin Pratama (1301200207)\n",
        "  2. Rizaldi Maulid Fathurachman (1301204084)\n",
        "\n"
      ],
      "metadata": {
        "id": "o8Z3ZmEajNT5"
      }
    },
    {
      "cell_type": "markdown",
      "source": [
        "**Quick Sort**"
      ],
      "metadata": {
        "id": "Wuwp12wVSms8"
      }
    },
    {
      "cell_type": "code",
      "source": [
        "import numpy as np\n",
        "from random import shuffle\n",
        "\n",
        "\n",
        "def partition(arr, left_index):\n",
        "    left_part = arr[:left_index]\n",
        "    right_part = arr[left_index:]\n",
        "\n",
        "    if len(left_part) > 1:\n",
        "        quick_sort(left_part)\n",
        "    \n",
        "    if len(right_part) > 1:\n",
        "        quick_sort(right_part)\n",
        "\n",
        "\n",
        "def quick_sort(arr):\n",
        "    last_index = len(arr) - 1\n",
        "    \n",
        "    pivot = arr[last_index]\n",
        "\n",
        "    left_index = -1\n",
        "    right_index = 0\n",
        "\n",
        "    while left_index < right_index:\n",
        "        # Get item from left that is greater than pivot\n",
        "        left_index = last_index\n",
        "        for index in range(last_index):\n",
        "            if arr[index] > pivot:\n",
        "                left_index = index\n",
        "                break\n",
        "\n",
        "        # Get item from right that is smaller than pivot\n",
        "        right_index = -1\n",
        "        for index in range(last_index - 1, -1, -1):\n",
        "            if arr[index] < pivot:\n",
        "                right_index = index\n",
        "                break\n",
        "\n",
        "        if left_index > right_index:\n",
        "            arr[left_index], arr[last_index] = arr[last_index], arr[left_index]\n",
        "        else:\n",
        "            arr[left_index], arr[right_index] = arr[right_index], arr[left_index]\n",
        "\n",
        "    partition(arr, left_index)\n",
        "    \n",
        "\n",
        "# Buat array berisi 0 sampai 999\n",
        "random_array = np.arange(10)\n",
        "\n",
        "# Acak isi array\n",
        "shuffle(random_array)\n",
        "\n",
        "print(random_array)\n",
        "\n",
        "quick_sort(random_array)\n",
        "\n",
        "##print(random_array)"
      ],
      "metadata": {
        "id": "zwbVK7bBTISH",
        "colab": {
          "base_uri": "https://localhost:8080/"
        },
        "outputId": "9bde5821-b809-4bd1-c24a-bf2587e93089"
      },
      "execution_count": null,
      "outputs": [
        {
          "output_type": "stream",
          "name": "stdout",
          "text": [
            "[5 4 8 9 1 7 2 3 6 0]\n"
          ]
        }
      ]
    },
    {
      "cell_type": "markdown",
      "source": [
        "**Merge Sort**"
      ],
      "metadata": {
        "id": "iMjqUvylS2k6"
      }
    },
    {
      "cell_type": "code",
      "source": [
        "def mergeSort(A, p, r):\n",
        "\tif p < r:\n",
        "\n",
        "\t\tq = p+(r-p)//2\n",
        "\n",
        "\t\tmergeSort(A, p, q)\n",
        "\t\tmergeSort(A, q+1, r)\n",
        "\t\tmerge(A, p, q, r)\n",
        "\t\n",
        "def merge(A, p, q, r):\n",
        "\tn1 = q - p + 1\n",
        "\tn2 = r - q\n",
        "\n",
        "\tL = [0] * (n1)\n",
        "\tR = [0] * (n2)\n",
        "\n",
        "\tfor i in range(0, n1):\n",
        "\t\tL[i] = A[p + i]\n",
        "\n",
        "\tfor j in range(0, n2):\n",
        "\t\tR[j] = A[q + 1 + j]\n",
        "\n",
        "\ti = 0\n",
        "\tj = 0\n",
        "\tk = p\n",
        "\n",
        "\twhile i < n1 and j < n2:\n",
        "\t\tif L[i] <= R[j]:\n",
        "\t\t\tA[k] = L[i]\n",
        "\t\t\ti += 1\n",
        "\t\telse:\n",
        "\t\t\tA[k] = R[j]\n",
        "\t\t\tj += 1\n",
        "\t\tk += 1\n",
        "\n",
        "\twhile i < n1:\n",
        "\t\tA[k] = L[i]\n",
        "\t\ti += 1\n",
        "\t\tk += 1\n",
        "\n",
        "\twhile j < n2:\n",
        "\t\tA[k] = R[j]\n",
        "\t\tj += 1\n",
        "\t\tk += 1\n",
        "\n",
        "A = [32, 12, 9, 18, 3, 21, 47, 26 ]\n",
        "n = len(A)\n",
        "\n",
        "mergeSort(A, 0, n-1)\n",
        "print(\"Sorted array is\")\n",
        "for i in range(n):\n",
        "    print(A[i], end=\" \"),"
      ],
      "metadata": {
        "colab": {
          "base_uri": "https://localhost:8080/"
        },
        "id": "bpi_DTlQS_DZ",
        "outputId": "1592dfe4-f1a4-462d-a526-d85c98be1221"
      },
      "execution_count": null,
      "outputs": [
        {
          "output_type": "stream",
          "name": "stdout",
          "text": [
            "Sorted array is\n",
            "3 9 12 18 21 26 32 47 "
          ]
        }
      ]
    }
  ]
}